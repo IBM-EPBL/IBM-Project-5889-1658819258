{
  "nbformat": 4,
  "nbformat_minor": 0,
  "metadata": {
    "colab": {
      "provenance": []
    },
    "kernelspec": {
      "name": "python3",
      "display_name": "Python 3"
    },
    "language_info": {
      "name": "python"
    }
  },
  "cells": [
    {
      "cell_type": "code",
      "source": [
        "from flask import Flask, render_template, request\n",
        "from scipy.misc import imsave, imread, imresize\n",
        "import numpy as np\n",
        "import keras.models\n",
        "import re\n",
        "import base64\n",
        "\n",
        "import sys \n",
        "import os\n",
        "sys.path.append(os.path.abspath(\"./model\"))\n",
        "from load import *\n",
        "\n",
        "app = Flask(__name__)\n",
        "global model, graph\n",
        "model, graph = init()\n",
        "    \n",
        "@app.route('/')\n",
        "def index():\n",
        "    return render_template(\"index.html\")\n",
        "\n",
        "@app.route('/predict/', methods=['GET','POST'])\n",
        "def predict():\n",
        "    # get data from drawing canvas and save as image\n",
        "    parseImage(request.get_data())\n",
        "\n",
        "    # read parsed image back in 8-bit, black and white mode (L)\n",
        "    x = imread('output.png', mode='L')\n",
        "    x = np.invert(x)\n",
        "    x = imresize(x,(28,28))\n",
        "\n",
        "    # reshape image data for use in neural network\n",
        "    x = x.reshape(1,28,28,1)\n",
        "    with graph.as_default():\n",
        "        out = model.predict(x)\n",
        "        print(out)\n",
        "        print(np.argmax(out, axis=1))\n",
        "        response = np.array_str(np.argmax(out, axis=1))\n",
        "        return response \n",
        "    \n",
        "def parseImage(imgData):\n",
        "    # parse canvas bytes and save as output.png\n",
        "    imgstr = re.search(b'base64,(.*)', imgData).group(1)\n",
        "    with open('output.png','wb') as output:\n",
        "        output.write(base64.decodebytes(imgstr))\n",
        "\n",
        "if __name__ == '__main__':\n",
        "    app.debug = True\n",
        "    port = int(os.environ.get(\"PORT\", 5000))\n",
        "    app.run(host='0.0.0.0', port=port)"
      ],
      "metadata": {
        "id": "dbEQZlfuDcVK"
      },
      "execution_count": null,
      "outputs": []
    }
  ]
}