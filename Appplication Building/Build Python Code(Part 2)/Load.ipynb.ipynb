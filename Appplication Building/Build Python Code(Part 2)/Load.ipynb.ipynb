{
  "nbformat": 4,
  "nbformat_minor": 0,
  "metadata": {
    "colab": {
      "provenance": []
    },
    "kernelspec": {
      "name": "python3",
      "display_name": "Python 3"
    },
    "language_info": {
      "name": "python"
    }
  },
  "cells": [
    {
      "cell_type": "code",
      "source": [
        "import numpy as np\n",
        "import keras.models\n",
        "from scipy.misc import imread, imresize,imshow\n",
        "import tensorflow as tf\n",
        "\n",
        "from keras.models import Sequential\n",
        "from keras.models import Sequential\n",
        "from keras.layers import Dense, Dropout, Flatten\n",
        "from keras.layers import Conv2D, MaxPooling2D\n",
        "\n",
        "def init():\n",
        "    num_classes = 10\n",
        "    img_rows, img_cols = 28, 28\n",
        "    input_shape = (img_rows, img_cols, 1)\n",
        "    model = Sequential()\n",
        "    model.add(Conv2D(32, kernel_size=(3, 3), activation='relu', input_shape=input_shape))\n",
        "    model.add(Conv2D(64, (3, 3), activation='relu'))\n",
        "    model.add(MaxPooling2D(pool_size=(2, 2)))\n",
        "    model.add(Dropout(0.25))\n",
        "    model.add(Flatten())\n",
        "    model.add(Dense(128, activation='relu'))\n",
        "    model.add(Dropout(0.5))\n",
        "    model.add(Dense(num_classes, activation='softmax'))\n",
        "    \n",
        "    #load woeights into new model\n",
        "    model.load_weights(\"weights.h5\")\n",
        "    print(\"Loaded Model from disk\")\n",
        "\n",
        "    #compile and evaluate loaded model\n",
        "    model.compile(loss=keras.losses.categorical_crossentropy, optimizer=keras.optimizers.Adadelta(), metrics=['accuracy'])\n",
        "    #loss,accuracy = model.evaluate(X_test,y_test)\n",
        "    #print('loss:', loss)\n",
        "    #print('accuracy:', accuracy)\n",
        "    graph = tf.get_default_graph()\n",
        "\n",
        "    return model, "
      ],
      "metadata": {
        "id": "W0vbQd01EAwN"
      },
      "execution_count": null,
      "outputs": []
    }
  ]
}